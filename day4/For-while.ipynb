{
 "cells": [
  {
   "cell_type": "markdown",
   "id": "0eff1d8c-787d-40dc-97ce-4b3b2eda0f9f",
   "metadata": {},
   "source": [
    "## more examples on break and continue"
   ]
  },
  {
   "cell_type": "code",
   "execution_count": 43,
   "id": "46e4725e-b7ba-4830-af48-5dd6abf8e361",
   "metadata": {},
   "outputs": [
    {
     "name": "stdout",
     "output_type": "stream",
     "text": [
      "i i e a o o i "
     ]
    }
   ],
   "source": [
    "# print vowels only\n",
    "string = 'This is very a common string'\n",
    "for i in string:\n",
    "    if i in 'aeiouAEIOU':\n",
    "        print(i, end = ' ')\n",
    "    else:\n",
    "        continue"
   ]
  },
  {
   "cell_type": "code",
   "execution_count": 44,
   "id": "de09eb70-1df9-4cc8-8c7d-78987fbad61a",
   "metadata": {},
   "outputs": [
    {
     "name": "stdout",
     "output_type": "stream",
     "text": [
      "i Vowel found\n",
      "i Vowel found\n",
      "e Vowel found\n",
      "a Vowel found\n",
      "o Vowel found\n",
      "o Vowel found\n",
      "i Vowel found\n"
     ]
    }
   ],
   "source": [
    "# print vowels only\n",
    "string = 'This is very a common string'\n",
    "for i in string:\n",
    "    if i in 'aeiouAEIOU':\n",
    "        print(i, end = ' ')\n",
    "    else:\n",
    "        continue\n",
    "    print('Vowel found')"
   ]
  },
  {
   "cell_type": "code",
   "execution_count": 45,
   "id": "e1898fe0-569f-4db3-8414-d5a812372e8b",
   "metadata": {},
   "outputs": [
    {
     "name": "stdout",
     "output_type": "stream",
     "text": [
      "i Vowel found\n",
      "i Vowel found\n",
      "e Vowel found\n",
      "a Vowel found\n",
      "o Vowel found\n",
      "o Vowel found\n",
      "i Vowel found\n"
     ]
    }
   ],
   "source": [
    "# print vowels only\n",
    "string = 'This is very a common string'\n",
    "for i in string:\n",
    "    if i not in 'aeiouAEIOU':\n",
    "        continue\n",
    "    print(i, 'Vowel found')"
   ]
  },
  {
   "cell_type": "code",
   "execution_count": 46,
   "id": "6624e945-a835-4250-9a72-0608cb96d4a8",
   "metadata": {},
   "outputs": [
    {
     "name": "stdout",
     "output_type": "stream",
     "text": [
      "This is very a co"
     ]
    }
   ],
   "source": [
    "string = 'This is very a common string'\n",
    "for i in string:\n",
    "    if i == 'm':\n",
    "        break\n",
    "    else:\n",
    "        print(i, end = '')"
   ]
  },
  {
   "cell_type": "markdown",
   "id": "ff054935-8bec-4512-88ba-b42a65276e86",
   "metadata": {},
   "source": [
    "# while loop"
   ]
  },
  {
   "cell_type": "code",
   "execution_count": null,
   "id": "bf261432-0061-4d09-9097-2402e30ab62b",
   "metadata": {},
   "outputs": [],
   "source": [
    "syntax:\n",
    "\n",
    "while condition:\n",
    "    pass\n"
   ]
  },
  {
   "cell_type": "code",
   "execution_count": 2,
   "id": "34a4eec2-2cb3-4c8c-b06e-cee004a08c1b",
   "metadata": {},
   "outputs": [
    {
     "name": "stdout",
     "output_type": "stream",
     "text": [
      "count = 0\n",
      "count = 1\n",
      "count = 2\n",
      "count = 3\n",
      "count = 4\n",
      "count = 5\n",
      "count = 6\n",
      "count = 7\n",
      "count = 8\n",
      "count = 9\n"
     ]
    }
   ],
   "source": [
    "count = 0\n",
    "while count <10:\n",
    "    print('count =', count)\n",
    "    count += 1"
   ]
  },
  {
   "cell_type": "code",
   "execution_count": 3,
   "id": "066e5215-b443-428f-8d98-7bd2eaca9fac",
   "metadata": {},
   "outputs": [
    {
     "name": "stdout",
     "output_type": "stream",
     "text": [
      "*******\n",
      "*******\n",
      "*******\n",
      "*******\n",
      "*******\n",
      "*******\n",
      "*******\n",
      "*******\n",
      "*******\n",
      "*******\n"
     ]
    }
   ],
   "source": [
    "i = 0\n",
    "while i <10:\n",
    "    j = 0\n",
    "    while j < 7:\n",
    "        print('*', end = '')\n",
    "        j +=1\n",
    "    i += 1\n",
    "    print()   "
   ]
  },
  {
   "cell_type": "code",
   "execution_count": 4,
   "id": "e0747d6d-a8de-4c7f-ac62-5d9ad4b6b870",
   "metadata": {},
   "outputs": [
    {
     "name": "stdout",
     "output_type": "stream",
     "text": [
      "\n",
      "*\n",
      "**\n",
      "***\n",
      "****\n",
      "*****\n",
      "******\n"
     ]
    }
   ],
   "source": [
    "i = 0\n",
    "while i <7:\n",
    "    j = 0\n",
    "    while j < i:\n",
    "        print('*', end = '')\n",
    "        j +=1\n",
    "    i += 1\n",
    "    print()   "
   ]
  },
  {
   "cell_type": "code",
   "execution_count": 6,
   "id": "5a68682c-0d0a-4e83-aa54-362fc594ae85",
   "metadata": {},
   "outputs": [
    {
     "name": "stdout",
     "output_type": "stream",
     "text": [
      "count = 9\n",
      "count = 8\n",
      "count = 7\n",
      "count = 6\n",
      "count = 5\n",
      "count = 4\n",
      "count = 3\n",
      "count = 2\n",
      "count = 1\n",
      "count = 0\n"
     ]
    }
   ],
   "source": [
    "i = 9\n",
    "while i >= 0:\n",
    "    print('count =',i)\n",
    "    i -= 1"
   ]
  },
  {
   "cell_type": "code",
   "execution_count": 32,
   "id": "f04db41a-4715-4e80-a472-30705a782156",
   "metadata": {},
   "outputs": [
    {
     "name": "stdout",
     "output_type": "stream",
     "text": [
      "Number is prime\n"
     ]
    }
   ],
   "source": [
    "num = 7\n",
    "flag = True\n",
    "for i in range(2, num):\n",
    "    if num%i == 0:        \n",
    "        flag = False\n",
    "        break\n",
    "    else:\n",
    "        flag = True\n",
    "#if flag == True:\n",
    "if flag:\n",
    "    print('Number is prime')\n",
    "else:\n",
    "    print('Number is not prime')\n",
    "      "
   ]
  },
  {
   "cell_type": "code",
   "execution_count": 34,
   "id": "65596266-1804-472a-b5e4-e3ddb2228041",
   "metadata": {},
   "outputs": [
    {
     "name": "stdout",
     "output_type": "stream",
     "text": [
      "77 = is prime\n"
     ]
    }
   ],
   "source": [
    "num = 77\n",
    "for i in range(2, num):\n",
    "    if num%i == 0:        \n",
    "        print(num, '= is prime')\n",
    "        break\n",
    "else:\n",
    "    print(num, '= is not prime')"
   ]
  },
  {
   "cell_type": "code",
   "execution_count": 42,
   "id": "d778c297-a9e5-49be-9f69-fb6bc97fccdf",
   "metadata": {},
   "outputs": [
    {
     "name": "stdout",
     "output_type": "stream",
     "text": [
      "4 is not prime\n"
     ]
    }
   ],
   "source": [
    "num = 4\n",
    "flag = True\n",
    "for i in range(2, num//2 + 1):\n",
    "    if num%i == 0:        \n",
    "        flag = False\n",
    "        break\n",
    "    else:\n",
    "        flag = True\n",
    "if flag:\n",
    "    print(num, 'is prime')\n",
    "else:\n",
    "    print(num, 'is not prime')"
   ]
  },
  {
   "cell_type": "code",
   "execution_count": null,
   "id": "fdb4e15d-c1f7-4856-bc64-354be87f3f21",
   "metadata": {},
   "outputs": [],
   "source": []
  }
 ],
 "metadata": {
  "kernelspec": {
   "display_name": "Python 3 (ipykernel)",
   "language": "python",
   "name": "python3"
  },
  "language_info": {
   "codemirror_mode": {
    "name": "ipython",
    "version": 3
   },
   "file_extension": ".py",
   "mimetype": "text/x-python",
   "name": "python",
   "nbconvert_exporter": "python",
   "pygments_lexer": "ipython3",
   "version": "3.10.12"
  }
 },
 "nbformat": 4,
 "nbformat_minor": 5
}

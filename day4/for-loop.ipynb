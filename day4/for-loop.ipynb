{
 "cells": [
  {
   "cell_type": "code",
   "execution_count": 1,
   "id": "d0580600-5d74-4e01-b3cc-45d4ad19bbde",
   "metadata": {},
   "outputs": [
    {
     "name": "stdout",
     "output_type": "stream",
     "text": [
      "              \n",
      "            * \n",
      "          * * \n",
      "        * * * \n",
      "      * * * * \n",
      "    * * * * * \n",
      "  * * * * * * \n"
     ]
    }
   ],
   "source": [
    "n = 7\n",
    "for i in range(n):\n",
    "    for j in range(n - i):\n",
    "        print(' ', end = ' ')\n",
    "    for j in range(i):\n",
    "        print('*', end = ' ')\n",
    "    print()\n",
    "        "
   ]
  },
  {
   "cell_type": "code",
   "execution_count": 2,
   "id": "eec63474-86d2-4735-89b0-80f33e9fdac9",
   "metadata": {},
   "outputs": [
    {
     "name": "stdout",
     "output_type": "stream",
     "text": [
      "              \n",
      "             *  \n",
      "           *   *  \n",
      "         *   *   *  \n",
      "       *   *   *   *  \n",
      "     *   *   *   *   *  \n",
      "   *   *   *   *   *   *  \n"
     ]
    }
   ],
   "source": [
    "n = 7\n",
    "for i in range(n):\n",
    "    for j in range(n - i):\n",
    "        print(' ', end = ' ')\n",
    "    for j in range(i):\n",
    "        print(' * ', end = ' ')\n",
    "    print()"
   ]
  },
  {
   "cell_type": "markdown",
   "id": "88ccc035-f524-47f3-aa75-3e8d1295a24e",
   "metadata": {},
   "source": [
    "# break"
   ]
  },
  {
   "cell_type": "code",
   "execution_count": null,
   "id": "d9a13c83-ec20-4376-bd2d-f419a3a6344f",
   "metadata": {},
   "outputs": [],
   "source": [
    "for i in range(7):\n",
    "    break"
   ]
  },
  {
   "cell_type": "code",
   "execution_count": 3,
   "id": "44e1efa3-3eb1-488e-afd8-17ab28df18b2",
   "metadata": {},
   "outputs": [
    {
     "name": "stdout",
     "output_type": "stream",
     "text": [
      "5 "
     ]
    }
   ],
   "source": [
    "for i in range(7):\n",
    "    if i == 5:\n",
    "        print(i, end = ' ')\n",
    "        break"
   ]
  },
  {
   "cell_type": "code",
   "execution_count": 4,
   "id": "9e06cdc7-df39-4f8e-8cd2-6ab338d8b4f9",
   "metadata": {},
   "outputs": [
    {
     "name": "stdout",
     "output_type": "stream",
     "text": [
      "0\n",
      "1\n",
      "2\n",
      "3\n",
      "4\n",
      "We are breaking loop here for i = 5\n"
     ]
    }
   ],
   "source": [
    "for i in range(100):\n",
    "    if i == 5:\n",
    "        print('We are breaking loop here for i =', i)\n",
    "        break\n",
    "    else:\n",
    "        print(i)"
   ]
  },
  {
   "cell_type": "code",
   "execution_count": 5,
   "id": "6f26cd34-e2c2-4e20-9c71-f8496a082f52",
   "metadata": {},
   "outputs": [
    {
     "name": "stdout",
     "output_type": "stream",
     "text": [
      "0\n",
      "1\n",
      "2\n",
      "3\n",
      "4\n",
      "5\n",
      "6\n",
      "We are breaking loop here for i = 7\n"
     ]
    }
   ],
   "source": [
    "for i in range(1000):\n",
    "    if i != 7:\n",
    "        print(i)\n",
    "    else:\n",
    "        print('We are breaking loop here for i =', i)\n",
    "        break"
   ]
  },
  {
   "cell_type": "markdown",
   "id": "15c233d6-0519-4265-839a-7ae88bd3da35",
   "metadata": {},
   "source": [
    "# continue"
   ]
  },
  {
   "cell_type": "markdown",
   "id": "fbc38147-5a03-4fd6-9a6a-2b8c2c0a60e2",
   "metadata": {},
   "source": [
    "it will stop execution of current iteration from where the 'continue' appears, and will continue execution of remaining iterations\n",
    "\n"
   ]
  },
  {
   "cell_type": "code",
   "execution_count": 6,
   "id": "3bde107f-214e-4fdc-9038-e670037bab8f",
   "metadata": {},
   "outputs": [
    {
     "name": "stdout",
     "output_type": "stream",
     "text": [
      "0\n",
      "**********\n",
      "1\n",
      "**********\n",
      "2\n",
      "**********\n",
      "3\n",
      "**********\n",
      "4\n",
      "**********\n",
      "5\n",
      "**********\n",
      "6\n",
      "**********\n",
      "8\n",
      "**********\n",
      "9\n",
      "**********\n"
     ]
    }
   ],
   "source": [
    "for i in range(10):\n",
    "    if i == 7:\n",
    "        continue\n",
    "        print('something will happen here i =', i)\n",
    "    else:\n",
    "        print(i)\n",
    "    print('**********')"
   ]
  },
  {
   "cell_type": "code",
   "execution_count": 7,
   "id": "e901e6ef-40b9-4615-948b-98e32704852a",
   "metadata": {},
   "outputs": [
    {
     "name": "stdout",
     "output_type": "stream",
     "text": [
      "0\n",
      "**********\n",
      "1\n",
      "**********\n",
      "2\n",
      "**********\n",
      "3\n",
      "**********\n",
      "4\n",
      "**********\n",
      "5\n",
      "**********\n",
      "6\n",
      "**********\n",
      "**********\n",
      "8\n",
      "**********\n",
      "9\n",
      "**********\n"
     ]
    }
   ],
   "source": [
    "for i in range(10):\n",
    "    if i == 7:\n",
    "        pass\n",
    "    else:\n",
    "        print(i)\n",
    "    print('**********')"
   ]
  },
  {
   "cell_type": "code",
   "execution_count": 8,
   "id": "7bdfb882-2fb9-4763-9d55-f7138e1f7562",
   "metadata": {},
   "outputs": [
    {
     "name": "stdout",
     "output_type": "stream",
     "text": [
      "0 2 4 6 8 10 12 14 16 18 20 22 24 26 28 "
     ]
    }
   ],
   "source": [
    "for i in range(30):\n",
    "    if i%2 == 0:\n",
    "        print(i, end = ' ')\n",
    "    else:\n",
    "        continue"
   ]
  },
  {
   "cell_type": "code",
   "execution_count": 9,
   "id": "7ca810f5-d309-4526-9e0c-8b397c8678cb",
   "metadata": {},
   "outputs": [
    {
     "name": "stdout",
     "output_type": "stream",
     "text": [
      "0 *, 2 *, 4 *, 6 *, 8 *, 10 *, 12 *, 14 *, 16 *, 18 *, 20 *, 22 *, 24 *, 26 *, 28 *, "
     ]
    }
   ],
   "source": [
    "for i in range(30):\n",
    "    if i%2 == 0:\n",
    "        print(i, end = ' ')\n",
    "    else:\n",
    "#         continue\n",
    "        print('*, ', end = '')\n"
   ]
  },
  {
   "cell_type": "code",
   "execution_count": 10,
   "id": "f2f4b783-ecbf-413d-a0fb-ebf64f830c67",
   "metadata": {},
   "outputs": [
    {
     "name": "stdout",
     "output_type": "stream",
     "text": [
      "1 3 5 7 9 11 13 15 17 19 21 23 25 27 29 "
     ]
    }
   ],
   "source": [
    "for i in range(30):\n",
    "    if i%2 == 0:\n",
    "        continue\n",
    "    else:\n",
    "        print(i, end = ' ')\n"
   ]
  },
  {
   "cell_type": "code",
   "execution_count": 11,
   "id": "aaba0b02-4af6-478f-bccc-afe6d283fdc5",
   "metadata": {},
   "outputs": [
    {
     "name": "stdout",
     "output_type": "stream",
     "text": [
      "0\n"
     ]
    }
   ],
   "source": [
    "for i in range(10):\n",
    "    print(i)\n",
    "    break\n"
   ]
  },
  {
   "cell_type": "code",
   "execution_count": 12,
   "id": "17dce56a-ee93-445f-ae23-4f8c6d061f3b",
   "metadata": {},
   "outputs": [],
   "source": [
    "for i in range(10):\n",
    "    break\n",
    "    print(i)\n"
   ]
  },
  {
   "cell_type": "markdown",
   "id": "a9b8f56f-5f0c-4737-9ded-bc8ed512c125",
   "metadata": {},
   "source": [
    "# for loop with else"
   ]
  },
  {
   "cell_type": "code",
   "execution_count": 13,
   "id": "be341560-913a-4a4a-ad3f-2bf767767ebb",
   "metadata": {},
   "outputs": [
    {
     "name": "stdout",
     "output_type": "stream",
     "text": [
      "0 1 2 3 4 \n",
      "We are in else part\n"
     ]
    }
   ],
   "source": [
    "for i in range(5):\n",
    "    print(i, end = ' ')    \n",
    "else:\n",
    "    print('\\nWe are in else part')"
   ]
  },
  {
   "cell_type": "code",
   "execution_count": 14,
   "id": "8a32840e-b080-4f79-a24d-692ba517186f",
   "metadata": {},
   "outputs": [
    {
     "name": "stdout",
     "output_type": "stream",
     "text": [
      "0 1 2 3 "
     ]
    }
   ],
   "source": [
    "for i in range(5):\n",
    "    print(i, end = ' ')\n",
    "    if i == 3:\n",
    "        break\n",
    "    \n",
    "else:\n",
    "    print('\\nWe are in else part')\n"
   ]
  },
  {
   "cell_type": "code",
   "execution_count": 15,
   "id": "2d1f32c3-4b35-4d43-9969-d8bf2f33ec8d",
   "metadata": {},
   "outputs": [
    {
     "name": "stdout",
     "output_type": "stream",
     "text": [
      "0 1 2 3 4 5 6 7 8 9 \n",
      "We are in else part\n"
     ]
    }
   ],
   "source": [
    "for i in range(10):\n",
    "    print(i, end = ' ')\n",
    "else:\n",
    "    print('\\nWe are in else part')\n"
   ]
  },
  {
   "cell_type": "code",
   "execution_count": 17,
   "id": "06df7919-e127-4687-a5f3-d869c7425713",
   "metadata": {},
   "outputs": [
    {
     "name": "stdout",
     "output_type": "stream",
     "text": [
      "0 1 2 3 4 5 7 8 9 \n",
      "We are in else part\n"
     ]
    }
   ],
   "source": [
    "for i in range(10):\n",
    "    if i == 6:\n",
    "        continue\n",
    "    print(i, end = ' ')\n",
    "else:\n",
    "    print('\\nWe are in else part')\n"
   ]
  },
  {
   "cell_type": "markdown",
   "id": "4bc14ecc-10f9-49c5-844c-c759f1b4c046",
   "metadata": {},
   "source": [
    "## enumerate()"
   ]
  },
  {
   "cell_type": "code",
   "execution_count": 1,
   "id": "182b1bc2-d0c7-4b5f-8aa7-15b741d0efb9",
   "metadata": {},
   "outputs": [
    {
     "data": {
      "text/plain": [
       "['00', '11', '22', '33', '44', '55', '66', '77', '88', '99']"
      ]
     },
     "execution_count": 1,
     "metadata": {},
     "output_type": "execute_result"
    }
   ],
   "source": [
    "list1 = ['00', '11', '22', '33', '44', '55', '66', '77', '88', '99']\n",
    "list1"
   ]
  },
  {
   "cell_type": "code",
   "execution_count": 2,
   "id": "1179c9cd-4862-4010-af79-2b201aaaa783",
   "metadata": {},
   "outputs": [
    {
     "name": "stdout",
     "output_type": "stream",
     "text": [
      "00 11 22 33 44 55 66 77 88 99 "
     ]
    }
   ],
   "source": [
    "for i in range(len(list1)):\n",
    "    print(list1[i], end= ' ')"
   ]
  },
  {
   "cell_type": "code",
   "execution_count": 3,
   "id": "3549935c-3c59-438a-b7f2-c43a27c37cd8",
   "metadata": {},
   "outputs": [
    {
     "name": "stdout",
     "output_type": "stream",
     "text": [
      "0 a\n",
      "1 b\n",
      "2 c\n",
      "3 d\n",
      "4 e\n",
      "5 f\n",
      "6 g\n",
      "7 h\n"
     ]
    }
   ],
   "source": [
    "for index, value in enumerate('abcdefgh'):\n",
    "    print(index, value)"
   ]
  },
  {
   "cell_type": "code",
   "execution_count": 4,
   "id": "b4d8b497-4969-439f-be62-bc82381a24f1",
   "metadata": {},
   "outputs": [
    {
     "name": "stdout",
     "output_type": "stream",
     "text": [
      "0 a\n",
      "1 b\n",
      "2 c\n",
      "3 d\n",
      "4 e\n",
      "5 f\n",
      "6 g\n",
      "7 h\n"
     ]
    }
   ],
   "source": [
    "for a, b in enumerate('abcdefgh'):\n",
    "    print(a, b)"
   ]
  },
  {
   "cell_type": "code",
   "execution_count": 5,
   "id": "7bab5bea-c2f0-4185-97ac-4949fd48ecf3",
   "metadata": {},
   "outputs": [
    {
     "name": "stdout",
     "output_type": "stream",
     "text": [
      "(0, 'a')\n",
      "(1, 'b')\n",
      "(2, 'c')\n",
      "(3, 'd')\n",
      "(4, 'e')\n",
      "(5, 'f')\n",
      "(6, 'g')\n",
      "(7, 'h')\n"
     ]
    }
   ],
   "source": [
    "for var in enumerate('abcdefgh'):\n",
    "    print(var)"
   ]
  },
  {
   "cell_type": "code",
   "execution_count": 6,
   "id": "90612735-ebc2-4364-a425-eb6fe2ff5478",
   "metadata": {},
   "outputs": [
    {
     "name": "stdout",
     "output_type": "stream",
     "text": [
      "(0, '00')\n",
      "(1, '11')\n",
      "(2, '22')\n",
      "(3, '33')\n",
      "(4, '44')\n",
      "(5, '55')\n",
      "(6, '66')\n",
      "(7, '77')\n",
      "(8, '88')\n",
      "(9, '99')\n"
     ]
    }
   ],
   "source": [
    "for var in enumerate(list1):\n",
    "    print(var)"
   ]
  },
  {
   "cell_type": "code",
   "execution_count": 7,
   "id": "771d02aa-686c-453a-a063-1cc87dc53636",
   "metadata": {},
   "outputs": [
    {
     "name": "stdout",
     "output_type": "stream",
     "text": [
      "(0, '00') <class 'tuple'>\n",
      "(1, '11') <class 'tuple'>\n",
      "(2, '22') <class 'tuple'>\n",
      "(3, '33') <class 'tuple'>\n",
      "(4, '44') <class 'tuple'>\n",
      "(5, '55') <class 'tuple'>\n",
      "(6, '66') <class 'tuple'>\n",
      "(7, '77') <class 'tuple'>\n",
      "(8, '88') <class 'tuple'>\n",
      "(9, '99') <class 'tuple'>\n"
     ]
    }
   ],
   "source": [
    "for var in enumerate(list1):\n",
    "    print(var, type(var))"
   ]
  },
  {
   "cell_type": "code",
   "execution_count": 8,
   "id": "26c67219-69a2-4205-a903-f47c1a88bc37",
   "metadata": {},
   "outputs": [
    {
     "name": "stdout",
     "output_type": "stream",
     "text": [
      "(0, '00') <class 'str'>\n",
      "(1, '11') <class 'str'>\n",
      "(2, '22') <class 'str'>\n",
      "(3, '33') <class 'str'>\n",
      "(4, '44') <class 'str'>\n",
      "(5, '55') <class 'str'>\n",
      "(6, '66') <class 'str'>\n",
      "(7, '77') <class 'str'>\n",
      "(8, '88') <class 'str'>\n",
      "(9, '99') <class 'str'>\n"
     ]
    }
   ],
   "source": [
    "for var in enumerate(list1):\n",
    "    print(var, type(var[1]))"
   ]
  },
  {
   "cell_type": "code",
   "execution_count": null,
   "id": "e067e22f-4f51-45ce-b2d7-5641d63e7693",
   "metadata": {},
   "outputs": [],
   "source": []
  }
 ],
 "metadata": {
  "kernelspec": {
   "display_name": "Python 3 (ipykernel)",
   "language": "python",
   "name": "python3"
  },
  "language_info": {
   "codemirror_mode": {
    "name": "ipython",
    "version": 3
   },
   "file_extension": ".py",
   "mimetype": "text/x-python",
   "name": "python",
   "nbconvert_exporter": "python",
   "pygments_lexer": "ipython3",
   "version": "3.10.12"
  }
 },
 "nbformat": 4,
 "nbformat_minor": 5
}
